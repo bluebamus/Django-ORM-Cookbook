{
 "cells": [
  {
   "cell_type": "code",
   "execution_count": 1,
   "id": "f7c48536",
   "metadata": {},
   "outputs": [],
   "source": [
    "import os"
   ]
  },
  {
   "cell_type": "code",
   "execution_count": 2,
   "id": "85c00310",
   "metadata": {},
   "outputs": [],
   "source": [
    "os.environ[\"DJANGO_ALLOW_ASYNC_UNSAFE\"] = \"true\""
   ]
  },
  {
   "cell_type": "code",
   "execution_count": 3,
   "id": "4aeac198",
   "metadata": {},
   "outputs": [],
   "source": [
    "from django.conf import settings"
   ]
  },
  {
   "cell_type": "code",
   "execution_count": 4,
   "id": "c88f7897",
   "metadata": {},
   "outputs": [],
   "source": [
    "from django.contrib.auth import get_user_model"
   ]
  },
  {
   "cell_type": "code",
   "execution_count": 5,
   "id": "7a2b1ee9",
   "metadata": {},
   "outputs": [],
   "source": [
    "from entities.models import Category, Origin, Hero, Villain, HeroAcquaintance"
   ]
  },
  {
   "cell_type": "code",
   "execution_count": 6,
   "id": "f17213b3",
   "metadata": {},
   "outputs": [
    {
     "data": {
      "text/plain": [
       "django.contrib.auth.models.User"
      ]
     },
     "execution_count": 6,
     "metadata": {},
     "output_type": "execute_result"
    }
   ],
   "source": [
    "get_user_model()"
   ]
  },
  {
   "cell_type": "code",
   "execution_count": 7,
   "id": "0defbd10",
   "metadata": {},
   "outputs": [],
   "source": [
    "from django.db.models import Subquery"
   ]
  },
  {
   "cell_type": "code",
   "execution_count": 8,
   "id": "6135c4e2",
   "metadata": {},
   "outputs": [],
   "source": [
    "users = User.objects.all()"
   ]
  },
  {
   "cell_type": "code",
   "execution_count": 9,
   "id": "0b75dc17",
   "metadata": {},
   "outputs": [],
   "source": [
    "# UserParent.objects.filter(user_id__in=Subquery(users.values('id'))) # 있는 경우 예시"
   ]
  },
  {
   "cell_type": "code",
   "execution_count": 10,
   "id": "d075217c",
   "metadata": {},
   "outputs": [],
   "source": [
    "# 가장 선한 영웅을 구하기"
   ]
  },
  {
   "cell_type": "code",
   "execution_count": 18,
   "id": "f914232f",
   "metadata": {},
   "outputs": [
    {
     "data": {
      "text/plain": [
       "<QuerySet [<Category: a>, <Category: b>, <Category: c>, <Category: d>]>"
      ]
     },
     "execution_count": 18,
     "metadata": {},
     "output_type": "execute_result"
    }
   ],
   "source": [
    "hero_qs = Hero.objects.filter(category=OuterRef(\"pk\")).order_by(\"-benevolence_factor\")\n",
    "\n",
    "Category.objects.all().annotate(most_benevolent_hero=Subquery(hero_qs.values('name')[:1]))"
   ]
  },
  {
   "cell_type": "code",
   "execution_count": 15,
   "id": "eec01807",
   "metadata": {},
   "outputs": [
    {
     "data": {
      "text/plain": [
       "'\\n# shell_plus\\nSELECT \"entities_category\".\"id\",\\n       \"entities_category\".\"name\",\\n       (\\n        SELECT U0.\"name\"\\n          FROM \"entities_hero\" U0\\n         WHERE U0.\"category_id\" = (\"entities_category\".\"id\")\\n         ORDER BY U0.\"benevolence_factor\" DESC\\n         LIMIT 1\\n       ) AS \"most_benevolent_hero\"\\n  FROM \"entities_category\"\\n'"
      ]
     },
     "execution_count": 15,
     "metadata": {},
     "output_type": "execute_result"
    }
   ],
   "source": [
    "'''\n",
    "# shell_plus\n",
    "SELECT \"entities_category\".\"id\",\n",
    "       \"entities_category\".\"name\",\n",
    "       (\n",
    "        SELECT U0.\"name\"\n",
    "          FROM \"entities_hero\" U0\n",
    "         WHERE U0.\"category_id\" = (\"entities_category\".\"id\")\n",
    "         ORDER BY U0.\"benevolence_factor\" DESC\n",
    "         LIMIT 1\n",
    "       ) AS \"most_benevolent_hero\"\n",
    "  FROM \"entities_category\"\n",
    "'''"
   ]
  },
  {
   "cell_type": "code",
   "execution_count": 16,
   "id": "b8d8d190",
   "metadata": {},
   "outputs": [
    {
     "data": {
      "text/plain": [
       "'\\n'"
      ]
     },
     "execution_count": 16,
     "metadata": {},
     "output_type": "execute_result"
    }
   ],
   "source": [
    "'''\n",
    "# site info\n",
    "SELECT \"entities_category\".\"id\",\n",
    "       \"entities_category\".\"name\",\n",
    "\n",
    "  (SELECT U0.\"name\"\n",
    "   FROM \"entities_hero\" U0\n",
    "   WHERE U0.\"category_id\" = (\"entities_category\".\"id\")\n",
    "   ORDER BY U0.\"benevolence_factor\" DESC\n",
    "   LIMIT 1) AS \"most_benevolent_hero\"\n",
    "FROM \"entities_category\"\n",
    "'''"
   ]
  },
  {
   "cell_type": "code",
   "execution_count": null,
   "id": "8f4c9fa5",
   "metadata": {},
   "outputs": [],
   "source": []
  },
  {
   "cell_type": "code",
   "execution_count": null,
   "id": "e3c980a1",
   "metadata": {},
   "outputs": [],
   "source": []
  },
  {
   "cell_type": "code",
   "execution_count": null,
   "id": "a34ca63a",
   "metadata": {},
   "outputs": [],
   "source": []
  }
 ],
 "metadata": {
  "kernelspec": {
   "display_name": "Django Shell-Plus",
   "language": "python",
   "name": "django_extensions"
  },
  "language_info": {
   "codemirror_mode": {
    "name": "ipython",
    "version": 3
   },
   "file_extension": ".py",
   "mimetype": "text/x-python",
   "name": "python",
   "nbconvert_exporter": "python",
   "pygments_lexer": "ipython3",
   "version": "3.10.0"
  }
 },
 "nbformat": 4,
 "nbformat_minor": 5
}
