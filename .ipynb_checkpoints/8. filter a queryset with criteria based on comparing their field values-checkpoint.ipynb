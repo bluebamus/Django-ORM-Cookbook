{
 "cells": [
  {
   "cell_type": "code",
   "execution_count": 1,
   "id": "a9834af9",
   "metadata": {},
   "outputs": [],
   "source": [
    "import os"
   ]
  },
  {
   "cell_type": "code",
   "execution_count": 2,
   "id": "e0c4affe",
   "metadata": {},
   "outputs": [],
   "source": [
    "os.environ[\"DJANGO_ALLOW_ASYNC_UNSAFE\"] = \"true\""
   ]
  },
  {
   "cell_type": "code",
   "execution_count": 3,
   "id": "1a449ef6",
   "metadata": {},
   "outputs": [],
   "source": [
    "from django.conf import settings"
   ]
  },
  {
   "cell_type": "code",
   "execution_count": 4,
   "id": "d2648470",
   "metadata": {},
   "outputs": [],
   "source": [
    "from django.contrib.auth import get_user_model"
   ]
  },
  {
   "cell_type": "code",
   "execution_count": 5,
   "id": "38cb91ca",
   "metadata": {},
   "outputs": [],
   "source": [
    "from entities.models import Category, Origin, Hero, Villain, HeroAcquaintance"
   ]
  },
  {
   "cell_type": "code",
   "execution_count": 12,
   "id": "50e268fc",
   "metadata": {},
   "outputs": [],
   "source": [
    "from django.db.models.functions import Cast, Substr"
   ]
  },
  {
   "cell_type": "code",
   "execution_count": 6,
   "id": "a7f71277",
   "metadata": {},
   "outputs": [
    {
     "data": {
      "text/plain": [
       "<User: shabda>"
      ]
     },
     "execution_count": 6,
     "metadata": {},
     "output_type": "execute_result"
    }
   ],
   "source": [
    " User.objects.create_user(email=\"shabda@example.com\", username=\"shabda\", first_name=\"Shabda\", last_name=\"Raaj\")"
   ]
  },
  {
   "cell_type": "code",
   "execution_count": 7,
   "id": "6e974610",
   "metadata": {},
   "outputs": [
    {
     "data": {
      "text/plain": [
       "<User: Guido>"
      ]
     },
     "execution_count": 7,
     "metadata": {},
     "output_type": "execute_result"
    }
   ],
   "source": [
    "User.objects.create_user(email=\"guido@example.com\", username=\"Guido\", first_name=\"Guido\", last_name=\"Guido\")\n"
   ]
  },
  {
   "cell_type": "code",
   "execution_count": 8,
   "id": "95920539",
   "metadata": {},
   "outputs": [
    {
     "data": {
      "text/plain": [
       "<QuerySet [<User: admin>, <User: test1>, <User: test2>, <User: test3>, <User: Guido>]>"
      ]
     },
     "execution_count": 8,
     "metadata": {},
     "output_type": "execute_result"
    }
   ],
   "source": [
    "User.objects.filter(last_name=F(\"first_name\"))"
   ]
  },
  {
   "cell_type": "code",
   "execution_count": 9,
   "id": "0e4beb85",
   "metadata": {},
   "outputs": [],
   "source": [
    "# 이름의 첫 글자와 성의 첫 글자가 동일한 사용자를 구하고 싶다면 Substr(\"first_name\", 1, 1) 를 사용할 수 있습니다."
   ]
  },
  {
   "cell_type": "code",
   "execution_count": 10,
   "id": "ee369e05",
   "metadata": {},
   "outputs": [
    {
     "data": {
      "text/plain": [
       "<User: Tim>"
      ]
     },
     "execution_count": 10,
     "metadata": {},
     "output_type": "execute_result"
    }
   ],
   "source": [
    "User.objects.create_user(email=\"guido@example.com\", username=\"Tim\", first_name=\"Tim\", last_name=\"Teters\")"
   ]
  },
  {
   "cell_type": "code",
   "execution_count": 13,
   "id": "9e6854f8",
   "metadata": {},
   "outputs": [
    {
     "data": {
      "text/plain": [
       "<QuerySet [<User: admin>, <User: test1>, <User: test2>, <User: test3>, <User: Guido>, <User: Tim>]>"
      ]
     },
     "execution_count": 13,
     "metadata": {},
     "output_type": "execute_result"
    }
   ],
   "source": [
    "User.objects.annotate(first=Substr(\"first_name\", 1, 1), last=Substr(\"last_name\", 1, 1)).filter(first=F(\"last\"))"
   ]
  },
  {
   "cell_type": "code",
   "execution_count": null,
   "id": "1c9d1718",
   "metadata": {},
   "outputs": [],
   "source": [
    "# Substr - Get specified number of strings from index"
   ]
  }
 ],
 "metadata": {
  "kernelspec": {
   "display_name": "Django Shell-Plus",
   "language": "python",
   "name": "django_extensions"
  },
  "language_info": {
   "codemirror_mode": {
    "name": "ipython",
    "version": 3
   },
   "file_extension": ".py",
   "mimetype": "text/x-python",
   "name": "python",
   "nbconvert_exporter": "python",
   "pygments_lexer": "ipython3",
   "version": "3.10.0"
  }
 },
 "nbformat": 4,
 "nbformat_minor": 5
}
